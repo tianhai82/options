{
 "metadata": {
  "language_info": {
   "codemirror_mode": {
    "name": "ipython",
    "version": 3
   },
   "file_extension": ".py",
   "mimetype": "text/x-python",
   "name": "python",
   "nbconvert_exporter": "python",
   "pygments_lexer": "ipython3",
   "version": "3.9.1-final"
  },
  "orig_nbformat": 2,
  "kernelspec": {
   "name": "python3",
   "display_name": "Python 3.9.1 64-bit ('venv')",
   "metadata": {
    "interpreter": {
     "hash": "e04b41d9428d95bceb2576b560da98baba66f93c265821a3e964b73f7b28eecd"
    }
   }
  }
 },
 "nbformat": 4,
 "nbformat_minor": 2,
 "cells": [
  {
   "cell_type": "code",
   "execution_count": 1,
   "metadata": {},
   "outputs": [],
   "source": [
    "import yfinance as yf\n",
    "import pandas as pd\n",
    "import numpy as np"
   ]
  },
  {
   "cell_type": "code",
   "execution_count": 2,
   "metadata": {},
   "outputs": [],
   "source": [
    "def sharpe_ratio(returns):\n",
    "    return returns.mean() / returns.std() * 252**0.5"
   ]
  },
  {
   "cell_type": "code",
   "execution_count": 3,
   "metadata": {},
   "outputs": [],
   "source": [
    "def min_max(series):\n",
    "    return (series-series.min())/(series.max()-series.min())"
   ]
  },
  {
   "cell_type": "code",
   "execution_count": 4,
   "metadata": {},
   "outputs": [],
   "source": [
    "aapl = yf.Ticker('AAPL')"
   ]
  },
  {
   "cell_type": "code",
   "execution_count": 5,
   "metadata": {},
   "outputs": [],
   "source": [
    "history = aapl.history(period=\"1y\")"
   ]
  },
  {
   "cell_type": "code",
   "execution_count": 9,
   "metadata": {},
   "outputs": [
    {
     "output_type": "execute_result",
     "data": {
      "text/plain": [
       "Date\n",
       "2020-02-13    0.189723\n",
       "2020-02-14    0.067194\n",
       "2020-02-18    0.600791\n",
       "2020-02-19    0.181818\n",
       "2020-02-20    0.233202\n",
       "                ...   \n",
       "2021-02-08    0.019763\n",
       "2021-02-09    0.051383\n",
       "2021-02-10    0.023715\n",
       "2021-02-11    0.015810\n",
       "2021-02-12    0.011858\n",
       "Name: Volume, Length: 253, dtype: float64"
      ]
     },
     "metadata": {},
     "execution_count": 9
    }
   ],
   "source": [
    "history['Volume'].rank(pct=True)"
   ]
  },
  {
   "cell_type": "code",
   "execution_count": 20,
   "metadata": {},
   "outputs": [],
   "source": [
    "returns = history['Close'].pct_change()"
   ]
  },
  {
   "cell_type": "code",
   "execution_count": 40,
   "metadata": {},
   "outputs": [
    {
     "output_type": "execute_result",
     "data": {
      "text/plain": [
       "Date\n",
       "2020-02-13     94747600\n",
       "2020-02-14     80113600\n",
       "2020-02-18    152531200\n",
       "2020-02-19     93984000\n",
       "2020-02-20    100566000\n",
       "                ...    \n",
       "2021-02-08     71297200\n",
       "2021-02-09     76774200\n",
       "2021-02-10     73046600\n",
       "2021-02-11     64154400\n",
       "2021-02-12     60029300\n",
       "Name: Volume, Length: 253, dtype: int64"
      ]
     },
     "metadata": {},
     "execution_count": 40
    }
   ],
   "source": [
    "history['Volume']"
   ]
  },
  {
   "cell_type": "code",
   "execution_count": 44,
   "metadata": {},
   "outputs": [],
   "source": [
    "history['volume_norm'] = min_max(history['Volume'])"
   ]
  },
  {
   "cell_type": "code",
   "execution_count": 45,
   "metadata": {},
   "outputs": [
    {
     "output_type": "execute_result",
     "data": {
      "text/plain": [
       "                  Open        High         Low       Close     Volume  \\\n",
       "Date                                                                    \n",
       "2020-02-13   80.424083   80.927679   80.215699   80.592773   94747600   \n",
       "2020-02-14   80.560524   80.868144   80.091662   80.612625   80113600   \n",
       "2020-02-18   78.233562   79.322624   78.047504   79.136566  152531200   \n",
       "2020-02-19   79.384647   80.518361   79.384647   80.282684   93984000   \n",
       "2020-02-20   80.037092   80.538205   78.940588   79.459068  100566000   \n",
       "...                ...         ...         ...         ...        ...   \n",
       "2021-02-08  136.029999  136.960007  134.919998  136.910004   71297200   \n",
       "2021-02-09  136.619995  137.880005  135.850006  136.009995   76774200   \n",
       "2021-02-10  136.479996  136.990005  134.399994  135.389999   73046600   \n",
       "2021-02-11  135.899994  136.389999  133.770004  135.130005   64154400   \n",
       "2021-02-12  134.350006  135.529999  133.690002  135.369995   60029300   \n",
       "\n",
       "            Dividends  Stock Splits  volume_norm  \n",
       "Date                                              \n",
       "2020-02-13        0.0           0.0     0.126400  \n",
       "2020-02-14        0.0           0.0     0.087909  \n",
       "2020-02-18        0.0           0.0     0.278384  \n",
       "2020-02-19        0.0           0.0     0.124391  \n",
       "2020-02-20        0.0           0.0     0.141703  \n",
       "...               ...           ...          ...  \n",
       "2021-02-08        0.0           0.0     0.064719  \n",
       "2021-02-09        0.0           0.0     0.079125  \n",
       "2021-02-10        0.0           0.0     0.069321  \n",
       "2021-02-11        0.0           0.0     0.045932  \n",
       "2021-02-12        0.0           0.0     0.035082  \n",
       "\n",
       "[253 rows x 8 columns]"
      ],
      "text/html": "<div>\n<style scoped>\n    .dataframe tbody tr th:only-of-type {\n        vertical-align: middle;\n    }\n\n    .dataframe tbody tr th {\n        vertical-align: top;\n    }\n\n    .dataframe thead th {\n        text-align: right;\n    }\n</style>\n<table border=\"1\" class=\"dataframe\">\n  <thead>\n    <tr style=\"text-align: right;\">\n      <th></th>\n      <th>Open</th>\n      <th>High</th>\n      <th>Low</th>\n      <th>Close</th>\n      <th>Volume</th>\n      <th>Dividends</th>\n      <th>Stock Splits</th>\n      <th>volume_norm</th>\n    </tr>\n    <tr>\n      <th>Date</th>\n      <th></th>\n      <th></th>\n      <th></th>\n      <th></th>\n      <th></th>\n      <th></th>\n      <th></th>\n      <th></th>\n    </tr>\n  </thead>\n  <tbody>\n    <tr>\n      <th>2020-02-13</th>\n      <td>80.424083</td>\n      <td>80.927679</td>\n      <td>80.215699</td>\n      <td>80.592773</td>\n      <td>94747600</td>\n      <td>0.0</td>\n      <td>0.0</td>\n      <td>0.126400</td>\n    </tr>\n    <tr>\n      <th>2020-02-14</th>\n      <td>80.560524</td>\n      <td>80.868144</td>\n      <td>80.091662</td>\n      <td>80.612625</td>\n      <td>80113600</td>\n      <td>0.0</td>\n      <td>0.0</td>\n      <td>0.087909</td>\n    </tr>\n    <tr>\n      <th>2020-02-18</th>\n      <td>78.233562</td>\n      <td>79.322624</td>\n      <td>78.047504</td>\n      <td>79.136566</td>\n      <td>152531200</td>\n      <td>0.0</td>\n      <td>0.0</td>\n      <td>0.278384</td>\n    </tr>\n    <tr>\n      <th>2020-02-19</th>\n      <td>79.384647</td>\n      <td>80.518361</td>\n      <td>79.384647</td>\n      <td>80.282684</td>\n      <td>93984000</td>\n      <td>0.0</td>\n      <td>0.0</td>\n      <td>0.124391</td>\n    </tr>\n    <tr>\n      <th>2020-02-20</th>\n      <td>80.037092</td>\n      <td>80.538205</td>\n      <td>78.940588</td>\n      <td>79.459068</td>\n      <td>100566000</td>\n      <td>0.0</td>\n      <td>0.0</td>\n      <td>0.141703</td>\n    </tr>\n    <tr>\n      <th>...</th>\n      <td>...</td>\n      <td>...</td>\n      <td>...</td>\n      <td>...</td>\n      <td>...</td>\n      <td>...</td>\n      <td>...</td>\n      <td>...</td>\n    </tr>\n    <tr>\n      <th>2021-02-08</th>\n      <td>136.029999</td>\n      <td>136.960007</td>\n      <td>134.919998</td>\n      <td>136.910004</td>\n      <td>71297200</td>\n      <td>0.0</td>\n      <td>0.0</td>\n      <td>0.064719</td>\n    </tr>\n    <tr>\n      <th>2021-02-09</th>\n      <td>136.619995</td>\n      <td>137.880005</td>\n      <td>135.850006</td>\n      <td>136.009995</td>\n      <td>76774200</td>\n      <td>0.0</td>\n      <td>0.0</td>\n      <td>0.079125</td>\n    </tr>\n    <tr>\n      <th>2021-02-10</th>\n      <td>136.479996</td>\n      <td>136.990005</td>\n      <td>134.399994</td>\n      <td>135.389999</td>\n      <td>73046600</td>\n      <td>0.0</td>\n      <td>0.0</td>\n      <td>0.069321</td>\n    </tr>\n    <tr>\n      <th>2021-02-11</th>\n      <td>135.899994</td>\n      <td>136.389999</td>\n      <td>133.770004</td>\n      <td>135.130005</td>\n      <td>64154400</td>\n      <td>0.0</td>\n      <td>0.0</td>\n      <td>0.045932</td>\n    </tr>\n    <tr>\n      <th>2021-02-12</th>\n      <td>134.350006</td>\n      <td>135.529999</td>\n      <td>133.690002</td>\n      <td>135.369995</td>\n      <td>60029300</td>\n      <td>0.0</td>\n      <td>0.0</td>\n      <td>0.035082</td>\n    </tr>\n  </tbody>\n</table>\n<p>253 rows × 8 columns</p>\n</div>"
     },
     "metadata": {},
     "execution_count": 45
    }
   ],
   "source": [
    "history"
   ]
  },
  {
   "cell_type": "code",
   "execution_count": 26,
   "metadata": {},
   "outputs": [
    {
     "output_type": "execute_result",
     "data": {
      "text/plain": [
       "1.3368332538038943"
      ]
     },
     "metadata": {},
     "execution_count": 26
    }
   ],
   "source": [
    "sharpe_ratio(returns)"
   ]
  },
  {
   "cell_type": "code",
   "execution_count": 29,
   "metadata": {},
   "outputs": [],
   "source": [
    "symbols = pd.read_csv(\"trading_view.csv\")"
   ]
  },
  {
   "cell_type": "code",
   "execution_count": 38,
   "metadata": {},
   "outputs": [
    {
     "output_type": "execute_result",
     "data": {
      "text/plain": [
       "  symbol\n",
       "0    RMO\n",
       "1   CBAY\n",
       "2   RCMT\n",
       "3    ACB\n",
       "4   COTY\n",
       "5   EXPE\n",
       "6    JHG\n",
       "7   KERN\n",
       "8   PINS\n",
       "9    FMC"
      ],
      "text/html": "<div>\n<style scoped>\n    .dataframe tbody tr th:only-of-type {\n        vertical-align: middle;\n    }\n\n    .dataframe tbody tr th {\n        vertical-align: top;\n    }\n\n    .dataframe thead th {\n        text-align: right;\n    }\n</style>\n<table border=\"1\" class=\"dataframe\">\n  <thead>\n    <tr style=\"text-align: right;\">\n      <th></th>\n      <th>symbol</th>\n    </tr>\n  </thead>\n  <tbody>\n    <tr>\n      <th>0</th>\n      <td>RMO</td>\n    </tr>\n    <tr>\n      <th>1</th>\n      <td>CBAY</td>\n    </tr>\n    <tr>\n      <th>2</th>\n      <td>RCMT</td>\n    </tr>\n    <tr>\n      <th>3</th>\n      <td>ACB</td>\n    </tr>\n    <tr>\n      <th>4</th>\n      <td>COTY</td>\n    </tr>\n    <tr>\n      <th>5</th>\n      <td>EXPE</td>\n    </tr>\n    <tr>\n      <th>6</th>\n      <td>JHG</td>\n    </tr>\n    <tr>\n      <th>7</th>\n      <td>KERN</td>\n    </tr>\n    <tr>\n      <th>8</th>\n      <td>PINS</td>\n    </tr>\n    <tr>\n      <th>9</th>\n      <td>FMC</td>\n    </tr>\n  </tbody>\n</table>\n</div>"
     },
     "metadata": {},
     "execution_count": 38
    }
   ],
   "source": [
    "symbols[:10]"
   ]
  },
  {
   "cell_type": "code",
   "execution_count": 31,
   "metadata": {},
   "outputs": [
    {
     "output_type": "stream",
     "name": "stdout",
     "text": [
      "RMO\nCBAY\nRCMT\nACB\nCOTY\nEXPE\nJHG\nKERN\nPINS\nFMC\nFOLD\nIIVI\nSAVA\nOEG\nGDDY\nAY\nPLTR\nNUS\nYELP\nCOMS\nWW\nAEM\nOPEN\nZNGA\nDLPN\nDVA\nRDFN\nCC\nAQUA\nRAD\nKODK\nLEN\nATEN\nPRCH\nWKHS\nQMCO\nPOWW\nTCDA\nFRX\nLEDS\nVXRT\nACIU\nSPCE\nDDOG\nLB\nCLSK\nEAF\nARCT\nHTBX\nANGI\nBL\nFSLY\nTVTX\nNKLA\nJE\nCGIX\nRESN\nM\nVCVC\nGTHX\nOTIC\nGMBL\nSRNE\nGLMD\nKOSS\nNPA\nTRUE\nPHM\nGLBS\nSVMK\nSQZ\nWES\nIMVT\nVNDA\nUAA\nABIO\nBLMN\nGOCO\nMBRX\nCURI\nSONO\nAXL\nRIDE\nAHCO\nUSEG\nKMPH\nHEXO\nTLRY\nSFM\nMYOV\nAPDN\nBW\nMOSY\nDNMR\nFUSE\nZNTE\nAREC\nTHBR\nWISH\nCLVS\nCRDF\nAFRM\nNWL\nVKTX\nZYNE\nELY\nFCAC\nOCGN\nALUS\nCREE\nHYLN\nBIGC\nCARG\nQUOT\nNET\nDDD\nMP\nACIC\nTPR\nEVGN\nOPCH\nAVYA\n"
     ]
    }
   ],
   "source": [
    "for i, row in symbols.iterrows():\n",
    "    print(row[\"symbol\"])"
   ]
  },
  {
   "cell_type": "code",
   "execution_count": null,
   "metadata": {},
   "outputs": [],
   "source": []
  }
 ]
}